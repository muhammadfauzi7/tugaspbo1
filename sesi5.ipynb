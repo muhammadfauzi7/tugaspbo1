{
  "nbformat": 4,
  "nbformat_minor": 0,
  "metadata": {
    "colab": {
      "provenance": [],
      "authorship_tag": "ABX9TyP+DldNmciD+/uhVP8Dta+F",
      "include_colab_link": true
    },
    "kernelspec": {
      "name": "python3",
      "display_name": "Python 3"
    },
    "language_info": {
      "name": "python"
    }
  },
  "cells": [
    {
      "cell_type": "markdown",
      "metadata": {
        "id": "view-in-github",
        "colab_type": "text"
      },
      "source": [
        "<a href=\"https://colab.research.google.com/github/pojimhd/python/blob/tugaspbo/sesi5.ipynb\" target=\"_parent\"><img src=\"https://colab.research.google.com/assets/colab-badge.svg\" alt=\"Open In Colab\"/></a>"
      ]
    },
    {
      "cell_type": "markdown",
      "source": [
        "**Program Membuat List**"
      ],
      "metadata": {
        "id": "_8YVtSVDz5lg"
      }
    },
    {
      "cell_type": "code",
      "execution_count": 1,
      "metadata": {
        "colab": {
          "base_uri": "https://localhost:8080/"
        },
        "id": "GdZg4MO7z3iu",
        "outputId": "386cab80-0320-401b-a0ba-e07ccded40a5"
      },
      "outputs": [
        {
          "output_type": "stream",
          "name": "stdout",
          "text": [
            "list1[0]:  a\n",
            "list2[1:3]:  ['bahasa aceh', 2019]\n",
            "list3[1:5]:  [2, 3, 4, 5, 6]\n"
          ]
        }
      ],
      "source": [
        "# Pembuatan list pada bahasa pemrograman python\n",
        "list1 = [\"a\", \"b\", \"c\", \"d\"]\n",
        "list2 = ['bahasa arab', 'bahasa aceh', 2019, 2020]\n",
        "list3 = [1, 2, 3, 4, 5, 6, 7 ]\n",
        "\n",
        "\n",
        "# Mengakses Nilai list dalam Python\n",
        "print (\"list1[0]: \", list1[0])\n",
        "print (\"list2[1:3]: \", list2[1:3])\n",
        "print (\"list3[1:5]: \", list3[1:6])"
      ]
    },
    {
      "cell_type": "markdown",
      "source": [
        "**Mengupdate Nilai pada List**"
      ],
      "metadata": {
        "id": "SxoVV1Auz57g"
      }
    },
    {
      "cell_type": "code",
      "source": [
        "# Pembuatan list dan mengakses nilai list pada indeks 2\n",
        "list = ['bahasa arab', 'bahasa aceh', 2019, 2020]\n",
        "print (\"Nilai ada pada index 2 adalah: \", list[2])\n",
        "\n",
        "# Proses Update nilai list pada indeks 2\n",
        "list[2] = 2018\n",
        "print (\"Nilai baru ada pada index 2 adalah: \", list[2])"
      ],
      "metadata": {
        "colab": {
          "base_uri": "https://localhost:8080/"
        },
        "id": "MleAXUO20FFc",
        "outputId": "322e0c85-d21f-4735-e80c-1e7d445ce93b"
      },
      "execution_count": 5,
      "outputs": [
        {
          "output_type": "stream",
          "name": "stdout",
          "text": [
            "Nilai ada pada index 2 adalah:  2019\n",
            "Nilai baru ada pada index 2 adalah:  2018\n"
          ]
        }
      ]
    },
    {
      "cell_type": "markdown",
      "source": [
        "**Menghapus Nilai pada List**"
      ],
      "metadata": {
        "id": "KV3pgIvbz6U7"
      }
    },
    {
      "cell_type": "code",
      "source": [
        "# Pembuatan list\n",
        "list = ['bahasa arab', 'bahasa aceh', 2019, 2020]\n",
        "print (\"Daftar list sebelum dihapus:\", list)\n",
        "\n",
        "# Proses menghapus nilai List pada indeks 1\n",
        "del list[1]\n",
        "print (\"Setelah dihapus nilai pada index 1 : \", list)"
      ],
      "metadata": {
        "colab": {
          "base_uri": "https://localhost:8080/"
        },
        "id": "uqAbT_djz6kZ",
        "outputId": "16119e51-a138-4fb5-e1ce-710b53940c88"
      },
      "execution_count": 6,
      "outputs": [
        {
          "output_type": "stream",
          "name": "stdout",
          "text": [
            "Daftar list sebelum dihapus: ['bahasa arab', 'bahasa aceh', 2019, 2020]\n",
            "Setelah dihapus nilai pada index 1 :  ['bahasa arab', 2019, 2020]\n"
          ]
        }
      ]
    }
  ]
}