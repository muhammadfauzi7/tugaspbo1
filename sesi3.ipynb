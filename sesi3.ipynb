{
  "nbformat": 4,
  "nbformat_minor": 0,
  "metadata": {
    "colab": {
      "provenance": [],
      "authorship_tag": "ABX9TyMLjijxrGocIOc/LFrXM7Dd",
      "include_colab_link": true
    },
    "kernelspec": {
      "name": "python3",
      "display_name": "Python 3"
    },
    "language_info": {
      "name": "python"
    }
  },
  "cells": [
    {
      "cell_type": "markdown",
      "metadata": {
        "id": "view-in-github",
        "colab_type": "text"
      },
      "source": [
        "<a href=\"https://colab.research.google.com/github/pojimhd/python/blob/tugaspbo/sesi3.ipynb\" target=\"_parent\"><img src=\"https://colab.research.google.com/assets/colab-badge.svg\" alt=\"Open In Colab\"/></a>"
      ]
    },
    {
      "cell_type": "markdown",
      "source": [
        "**Contoh sederhana perulangan for**"
      ],
      "metadata": {
        "id": "Ayb91Ytbvdux"
      }
    },
    {
      "cell_type": "code",
      "execution_count": null,
      "metadata": {
        "id": "Z11Fhi7XvLSL",
        "colab": {
          "base_uri": "https://localhost:8080/"
        },
        "outputId": "ab93858a-0cc4-4776-b7d8-aa459e999d80"
      },
      "outputs": [
        {
          "output_type": "stream",
          "name": "stdout",
          "text": [
            "Perulangan ke-0\n",
            "Perulangan ke-1\n",
            "Perulangan ke-2\n",
            "Perulangan ke-3\n",
            "Perulangan ke-4\n",
            "Perulangan ke-5\n",
            "Perulangan ke-6\n",
            "Perulangan ke-7\n",
            "Perulangan ke-8\n",
            "Perulangan ke-9\n"
          ]
        }
      ],
      "source": [
        "# Deklarasi variabel contoh dan 10 itu sebagai tanda 10 kali perulangan\n",
        "contoh = 10\n",
        "\n",
        "# Variabel i berfungsi untuk menampung indeks,\n",
        "# dan fungsi range() berfungsi untuk membuat list dari 0-10.\n",
        "for i in range(contoh):\n",
        "    print (\"Perulangan ke-\" +str(i))"
      ]
    },
    {
      "cell_type": "code",
      "source": [
        "# Menampilkan range dari kumpulan deret tertentu\n",
        "# range(5,10) akan membuat deret angka mulai dari 5, 6, 7, 8, dan 9.\n",
        "\n",
        "for i in range(5,10):\n",
        "  print(i)"
      ],
      "metadata": {
        "colab": {
          "base_uri": "https://localhost:8080/"
        },
        "id": "FDXLwivrviq7",
        "outputId": "ed89c19a-5e6e-4040-a7e5-104495a43549"
      },
      "execution_count": null,
      "outputs": [
        {
          "output_type": "stream",
          "name": "stdout",
          "text": [
            "5\n",
            "6\n",
            "7\n",
            "8\n",
            "9\n"
          ]
        }
      ]
    },
    {
      "cell_type": "markdown",
      "source": [
        "**Contoh menampilkan isi dalam body perulangan**"
      ],
      "metadata": {
        "id": "npqwUkpOvlS-"
      }
    },
    {
      "cell_type": "code",
      "source": [
        "# Deklarasi variabel contoh2 dengan tipe list\n",
        "contoh2 = ['saya','suka','minum','kopi', 'gayo']\n",
        "\n",
        "for isi in contoh2:\n",
        "    print (isi)"
      ],
      "metadata": {
        "colab": {
          "base_uri": "https://localhost:8080/"
        },
        "id": "q1pOv_Mnvlj1",
        "outputId": "7f3b5461-0e33-40d6-d40c-77e38b9f8ede"
      },
      "execution_count": null,
      "outputs": [
        {
          "output_type": "stream",
          "name": "stdout",
          "text": [
            "saya\n",
            "suka\n",
            "minum\n",
            "kopi\n",
            "gayo\n"
          ]
        }
      ]
    },
    {
      "cell_type": "markdown",
      "source": [
        "**Contoh menggunakan while**"
      ],
      "metadata": {
        "id": "hlIkZtlFvlv5"
      }
    },
    {
      "cell_type": "code",
      "source": [
        "# Deklarasi variabel hit\n",
        "hit = 0\n",
        "# Membuat kondisi\n",
        "while (hit < 5):\n",
        "    print(hit, \"kurang dari 5\")\n",
        "    hit = hit + 1\n",
        "else:\n",
        "# Menampilkan output salam jika kondisi sudah terpenuhi\n",
        "    print(\"Salammmm\")"
      ],
      "metadata": {
        "colab": {
          "base_uri": "https://localhost:8080/"
        },
        "id": "BBofxSXJvmBm",
        "outputId": "f02e2b24-14b2-437d-eb0c-0008451b78cd"
      },
      "execution_count": null,
      "outputs": [
        {
          "output_type": "stream",
          "name": "stdout",
          "text": [
            "0 kurang dari 5\n",
            "1 kurang dari 5\n",
            "2 kurang dari 5\n",
            "3 kurang dari 5\n",
            "4 kurang dari 5\n",
            "Salammmm\n"
          ]
        }
      ]
    },
    {
      "cell_type": "markdown",
      "source": [
        "**Program Menghitung Harga Tiket Masuk**"
      ],
      "metadata": {
        "id": "H4C5AhUuvmNc"
      }
    },
    {
      "cell_type": "code",
      "source": [
        "##\n",
        "# Program menghitung Faktor Persekutuan Terbesa\n",
        "#\n",
        "\n",
        "# Membaca dua bilangan positif dari user\n",
        "n = int(input(\"Masukkan bilangan positif:\"))\n",
        "m = int(input(\"Masukkan bilangan positif:\"))\n",
        "\n",
        "# Inisialisasi variabel untuk nilai terkecil dari n dan m\n",
        "d = min(n, m)\n",
        "\n",
        "# Gunakan loop while untuk mencari FPT\n",
        "while n % d != 0 or m % d != 0:\n",
        "  d = d - 1\n",
        "\n",
        "# Menampilkan hasil\n",
        "print(\"Faktor persekutuan terbesar dari\", n, \"dan\", m, \" adalah\", d)\n",
        "\n"
      ],
      "metadata": {
        "colab": {
          "base_uri": "https://localhost:8080/"
        },
        "id": "oM9ZUxOFvmrN",
        "outputId": "de697421-b389-486e-bd82-8b6d6dfbd9c8"
      },
      "execution_count": null,
      "outputs": [
        {
          "output_type": "stream",
          "name": "stdout",
          "text": [
            "Masukkan bilangan positif:20\n",
            "Masukkan bilangan positif:23\n",
            "Faktor persekutuan terbesar dari 20 dan 23  adalah 1\n"
          ]
        }
      ]
    },
    {
      "cell_type": "markdown",
      "source": [
        "**Program Mencari Nilai Maksimum dari 100 bilangan bulat**"
      ],
      "metadata": {
        "id": "6RMq5xsLvm6P"
      }
    },
    {
      "cell_type": "code",
      "source": [
        "##\n",
        "# Menentukan nilai maksimum 100 bilangan bulat, menghitung berapa kali\n",
        "# perulangan\n",
        "\n",
        "from random import randrange\n",
        "\n",
        "BIL_ITEMS = 100\n",
        "\n",
        "# Generate the first number and menampilkan nya\n",
        "maks_nilai = randrange(1, BIL_ITEMS + 1)\n",
        "print(maks_nilai)\n",
        "\n",
        "# Menghitung berapa kali perubahan\n",
        "bil_update = 0\n",
        "\n",
        "# Untuk setiap bilangan\n",
        "for i in range(1, BIL_ITEMS):\n",
        "  # Generate bilangan acak\n",
        "  current = randrange(1, BIL_ITEMS + 1)\n",
        "\n",
        "  # Kondisi jika ditemukan bilangan terbesar\n",
        "  if current > maks_nilai:\n",
        "    # Update nilai maksimum dan hitung perubahan\n",
        "    maks_nilai = current\n",
        "    bil_update = bil_update + 1\n",
        "    # Tampilkan bilangan jika masih ada proses update\n",
        "    print(current, \"<== Update\")\n",
        "  else:\n",
        "    #Tampilkan bilangan\n",
        "    print(current)\n",
        "\n",
        "# Tampilkan Hasil Terakhir\n",
        "print(\" Nilai maksimum yang ditemukan adalah\", maks_nilai)\n",
        "print(\"Nilai maksimum yang di-update\", bil_update, \"kali\")"
      ],
      "metadata": {
        "colab": {
          "base_uri": "https://localhost:8080/"
        },
        "id": "ZRMPlUFBvnNL",
        "outputId": "4e218b17-742d-4130-f619-cd0340c6f0d3"
      },
      "execution_count": null,
      "outputs": [
        {
          "output_type": "stream",
          "name": "stdout",
          "text": [
            "12\n",
            "20 <== Update\n",
            "96 <== Update\n",
            "58\n",
            "7\n",
            "89\n",
            "75\n",
            "36\n",
            "92\n",
            "84\n",
            "51\n",
            "72\n",
            "70\n",
            "41\n",
            "71\n",
            "82\n",
            "73\n",
            "24\n",
            "78\n",
            "12\n",
            "92\n",
            "5\n",
            "49\n",
            "21\n",
            "73\n",
            "96\n",
            "62\n",
            "89\n",
            "8\n",
            "46\n",
            "89\n",
            "39\n",
            "82\n",
            "79\n",
            "8\n",
            "57\n",
            "22\n",
            "10\n",
            "12\n",
            "6\n",
            "49\n",
            "91\n",
            "76\n",
            "60\n",
            "93\n",
            "63\n",
            "63\n",
            "11\n",
            "14\n",
            "80\n",
            "81\n",
            "16\n",
            "98 <== Update\n",
            "2\n",
            "30\n",
            "20\n",
            "11\n",
            "1\n",
            "20\n",
            "36\n",
            "45\n",
            "41\n",
            "66\n",
            "70\n",
            "5\n",
            "85\n",
            "70\n",
            "14\n",
            "56\n",
            "26\n",
            "21\n",
            "93\n",
            "94\n",
            "36\n",
            "75\n",
            "34\n",
            "92\n",
            "97\n",
            "43\n",
            "19\n",
            "59\n",
            "85\n",
            "82\n",
            "60\n",
            "74\n",
            "95\n",
            "13\n",
            "30\n",
            "65\n",
            "17\n",
            "91\n",
            "17\n",
            "20\n",
            "37\n",
            "63\n",
            "60\n",
            "85\n",
            "93\n",
            "65\n",
            "79\n",
            " Nilai maksimum yang ditemukan adalah 98\n",
            "Nilai maksimum yang di-update 3 kali\n"
          ]
        }
      ]
    }
  ]
}